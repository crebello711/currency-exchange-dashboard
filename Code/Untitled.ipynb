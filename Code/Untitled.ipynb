{
 "cells": [
  {
   "cell_type": "code",
   "execution_count": null,
   "id": "5e7c4574",
   "metadata": {},
   "outputs": [],
   "source": [
    "## sqlite stuff\n",
    "\n",
    "#import library\n",
    "import sqlite3\n",
    "\n",
    "#set up connection to sqlite database\n",
    "conn = sqlite3.connect('exchange_rates.sqlite')\n",
    "\n",
    "#create exchange rates table in database\n",
    "#(replace 'df' with DataFrame name)\n",
    "df.to_sql(‘exchange_rates’, conn, if_exists=‘replace’)\n",
    "\n",
    "#might need to commit the above insertion to the connection?\n",
    "\n",
    "#close sqlite3 connection\n",
    "conn.close()"
   ]
  }
 ],
 "metadata": {
  "kernelspec": {
   "display_name": "PythonData",
   "language": "python",
   "name": "pythondata"
  },
  "language_info": {
   "codemirror_mode": {
    "name": "ipython",
    "version": 3
   },
   "file_extension": ".py",
   "mimetype": "text/x-python",
   "name": "python",
   "nbconvert_exporter": "python",
   "pygments_lexer": "ipython3",
   "version": "3.7.7"
  }
 },
 "nbformat": 4,
 "nbformat_minor": 5
}
