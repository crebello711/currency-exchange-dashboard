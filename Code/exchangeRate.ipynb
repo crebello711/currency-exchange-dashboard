{
 "cells": [
  {
   "cell_type": "code",
   "execution_count": 11,
   "metadata": {},
   "outputs": [
    {
     "data": {
      "text/plain": [
       "'drop row till October 30 1998,\\n    drop rows from index no 7340\\n'"
      ]
     },
     "execution_count": 11,
     "metadata": {},
     "output_type": "execute_result"
    }
   ],
   "source": [
    "#import library\n",
    "import pandas as pd\n",
    "\n",
    "#read data\n",
    "rawData = pd.read_excel(\"..\\Data\\Exchange_Rate_Report.xlsx\")\n",
    "#rawData.tail(30)\n",
    "\n",
    "\n",
    "#convert row 3 to header\n",
    "rawData.columns = rawData.iloc[1]\n",
    "'''drop row till October 30 1998,\n",
    "    drop rows from index no 7340\n",
    "'''\n",
    "\n",
    "\n",
    "#df_filtered = df[df['Age'] >= 25]\n",
    "# rawData =rawData[rawData['']]\n",
    "# rawData\n"
   ]
  },
  {
   "cell_type": "code",
   "execution_count": null,
   "metadata": {},
   "outputs": [],
   "source": []
  },
  {
   "cell_type": "code",
   "execution_count": 1,
   "metadata": {},
   "outputs": [],
   "source": [
    "## sqlite stuff\n",
    "\n",
    "#import library\n",
    "import sqlite3\n",
    "\n",
    "#set up connection to sqlite database\n",
    "conn = sqlite3.connect('../Data/exchange_rates.sqlite')\n",
    "\n",
    "#create exchange rates table in database\n",
    "#(replace 'df' with DataFrame name)\n",
    "df.to_sql(‘exchange_rates’, conn, if_exists=‘replace’)\n",
    "\n",
    "#might need to commit the above insertion to the connection?\n",
    "\n",
    "#close sqlite3 connection\n",
    "conn.close()"
   ]
  },
  {
   "cell_type": "code",
   "execution_count": null,
   "metadata": {},
   "outputs": [],
   "source": []
  }
 ],
 "metadata": {
  "kernelspec": {
   "display_name": "PythonData",
   "language": "python",
   "name": "pythondata"
  },
  "language_info": {
   "codemirror_mode": {
    "name": "ipython",
    "version": 3
   },
   "file_extension": ".py",
   "mimetype": "text/x-python",
   "name": "python",
   "nbconvert_exporter": "python",
   "pygments_lexer": "ipython3",
   "version": "3.7.7"
  }
 },
 "nbformat": 4,
 "nbformat_minor": 4
}
